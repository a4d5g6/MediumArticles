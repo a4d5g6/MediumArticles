{
 "cells": [
  {
   "cell_type": "markdown",
   "metadata": {},
   "source": [
    "# Levenberg-Marquardt algorithm\n",
    "### The following notebook contains a simple implementation of the Levenberg-Marquardt algorith also known as Damped Least Squares. The example presented in this notebook is related to a widely used tool in petroleum engineering known as Declination Curves.\n",
    "\n",
    "#### A brief explanation about declination curves\n",
    "Declination curves are used in petroleum engineering to analyze and estimate future rates in oil and gas wells. The oil and gas production decline is usually a product of a drop in reservoir pressure or changes in the relative volumes at reservoir conditions. The concept of a declination curve is simple: use the past historical production to fit a curve and then use this curve to predict future behaviour. With this methodology, the main assumption is that future oil and gas production will follow the same declination trend that has been followed before which is not always the case for all wells.\n",
    "\n",
    "In spite of its simplicity, the declination curves analysis is widely known and used in the petroleum engineering community as a way of obtaining a quick estimation of future produced volumes. There are three main types of declination curves as proposed by Arps in 1945: exponential, hyperbolic and harmonic. All these expressions allow to relate the rate with the time elapsed from the initial rate measurement to a particular point in the future. The parameters also depend on the units that are used to express time and rate.\n",
    "\n",
    "<img src=DC.png width=\"400\" />\n",
    "\n",
    "The exponential curve can be linearized in order to find the value of _d_. However, both the exponential and harmonic curves are non-linear expressions. Numerous software and reservoir engineering packages allow users to easily find the best parameters for each declination curve and obtain multiple forecasts. However, this is a good example of a practical application of the damped least squares method. The rest of this notebook contains a step-by-step explation of how to apply this algorithm to adjust an hyperbolic and harmonic declination curve.\n",
    "\n",
    "Additional information about declination curves can be found in:\n",
    "\n",
    "\n",
    "* Arps, J.J. Analysis of decline curves. Trans. AIME 1945, 160, 228–247. \n",
    "\n",
    "* Fetkovich, M. J., Fetkovich, E. J., & Fetkovich, M. D. 1996. Useful Concepts for Decline Curve Forecasting, Reserve Estimation, and Analysis. Society of Petroleum Engineers.\n",
    "\n",
    "* Paryani, M.; Ahmadi, M.; Awoleke, O.; Hanks, C. Decline Curve Analysis: A Comparative Study of Proposed\n",
    "Models Using Improved Residual Functions. J. Pet. Environ. Biotechnol. 2018, 9, 362.\n",
    "\n",
    "* [Production forecasting decline curve analysis](https://petrowiki.spe.org/Production_forecasting_decline_curve_analysis). Petrowiki"
   ]
  },
  {
   "cell_type": "markdown",
   "metadata": {},
   "source": [
    "## Implementation of the Levenberg-Marquardt algorithm"
   ]
  },
  {
   "cell_type": "markdown",
   "metadata": {},
   "source": [
    "#### Importing the libraries"
   ]
  },
  {
   "cell_type": "code",
   "execution_count": 112,
   "metadata": {},
   "outputs": [],
   "source": [
    "import numpy as np #NumPy https://numpy.org/\n",
    "import pandas as pd #Pandas https://pandas.pydata.org/\n",
    "import matplotlib.pyplot as plt #Matplotlib https://matplotlib.org/\n",
    "from scipy.optimize import curve_fit #https://www.scipy.org/\n",
    "import math\n",
    "%matplotlib inline"
   ]
  },
  {
   "cell_type": "markdown",
   "metadata": {},
   "source": [
    "#### Loading and plotting the data"
   ]
  },
  {
   "cell_type": "code",
   "execution_count": 113,
   "metadata": {},
   "outputs": [
    {
     "data": {
      "text/plain": [
       "Text(0, 0.5, 'Oil rate [m3/day]')"
      ]
     },
     "execution_count": 113,
     "metadata": {},
     "output_type": "execute_result"
    },
    {
     "data": {
      "image/png": "[encoded data removed]",
      "text/plain": [
       "<Figure size 720x360 with 1 Axes>"
      ]
     },
     "metadata": {
      "needs_background": "light"
     },
     "output_type": "display_data"
    }
   ],
   "source": [
    "#Load the data\n",
    "df=pd.read_csv('well.csv') #This file contains the rate (m^3/day) vs time (days) for an oil well\n",
    "x = df.loc[:,'x']\n",
    "y = df.loc[:,'y']\n",
    "#Plot the data\n",
    "plt.figure(figsize=(10,5))\n",
    "plt.scatter(x=x, y=y,facecolor='blue',edgecolor='black',s=100,zorder=10)\n",
    "plt.xlabel('Time (days)')\n",
    "plt.ylabel('Oil rate [m3/day]')"
   ]
  },
  {
   "cell_type": "markdown",
   "metadata": {},
   "source": [
    "#### Harmonic and Hyperbolic functions"
   ]
  },
  {
   "cell_type": "code",
   "execution_count": 114,
   "metadata": {},
   "outputs": [],
   "source": [
    "#Define both functions. The input is:\n",
    "     #The independent variable x (time)\n",
    "     #The parameters (a1,a2) \n",
    "     #The initial rate that is fixed\n",
    "\n",
    "def Harm(x,a1,qi):\n",
    "    y=qi/(1+a1*x)\n",
    "    return y\n",
    "\n",
    "def Hyperb(x,a1,a2,qi):\n",
    "    y=qi/np.power(1+a1*a2*x,1/a2)\n",
    "    return y\n"
   ]
  },
  {
   "attachments": {},
   "cell_type": "markdown",
   "metadata": {},
   "source": [
    "#### Define a function to calculate the new parameters using a Levenberg-Marquardt step <img src=LM_Step.png width=\"300\" />"
   ]
  },
  {
   "cell_type": "code",
   "execution_count": 115,
   "metadata": {},
   "outputs": [],
   "source": [
    "def LevMarq(x,y_real,qi,lamb,model,a1=1,a2=1):\n",
    "    \n",
    "    if model=='Harmonic':\n",
    "        J=np.zeros((x.shape[0],2))\n",
    "        for i in range(J.shape[0]):\n",
    "            J[i,0]=-qi*x[i]/np.power(1+a1*x[i],2) #Calculate Jacobian\n",
    "            J[i,1]=1/(1+a1*x[i])\n",
    "        J2=np.dot(np.linalg.inv(np.dot(np.transpose(J),J)+lamb*np.identity(J.shape[1])),np.transpose(J)) #Calculate J2=(J^T.J+lamb.I)^-1.J^T\n",
    "        delta=np.dot(J2,Harm(x,a1,qi)-y_real)\n",
    "        a1=a1-delta[0] #New value for parameter a1\n",
    "        qi=qi-delta[1] #New value for parameter qi\n",
    "    \n",
    "    if model=='Hyperbolic':\n",
    "        J=np.zeros((x.shape[0],3))\n",
    "        for i in range(J.shape[0]):\n",
    "            J[i,0]=-qi/a2*np.power(1+a2*a1*x[i],-1/a2-1)*a2*x[i] #Calculate Jacobian\n",
    "            J[i,1]=(qi*(np.log(a1*a2*x[i]+1)/(a2*a2)-a1*x[i]/(a2*a1*x[i]*a2+a2)))/np.power(a1*a2*x[i]+1,1/a2)\n",
    "            J[i,2]=1/np.power(1+a1*a2*x[i],1/a2)                                                  \n",
    "                                                              \n",
    "        J2=np.dot(np.linalg.inv(np.dot(np.transpose(J),J)+lamb*np.identity(J.shape[1])),np.transpose(J)) #Calculate J2=(J^T.J+lamb.I)^-1.J^T\n",
    "        delta=np.dot(J2,Hyperb(x,a1,a2,qi)-y_real)\n",
    "        a1=a1-delta[0] #New value for parameter a1\n",
    "        a2=a2-delta[1] #New value for parameter a2\n",
    "        qi=qi-delta[2] #New value for parameter qi                                                      \n",
    "        \n",
    "    return a1,a2,qi\n"
   ]
  },
  {
   "cell_type": "markdown",
   "metadata": {},
   "source": [
    "#### Define a function that runs the Levenberg-Marquardt algorithm"
   ]
  },
  {
   "cell_type": "code",
   "execution_count": 116,
   "metadata": {},
   "outputs": [],
   "source": [
    "#Define a function that runs the Marquardt-Levenberg algorithm\n",
    "#INPUT:\n",
    " #Independent variable x (time)\n",
    " #Real values y (oil rate)\n",
    " #Model: Harmonic or Hyperbolic\n",
    " #lamb: initial value for lambda\n",
    " #qi: initial rate\n",
    " #a1,a2: initial guess for the parameters\n",
    " #Iterations: maximum number of iterations\n",
    "    \n",
    "def Adjust(x,y_real,model,lamb,qi=1,a1=1,a2=1,iterations=150): \n",
    "    a1_r=a1 #These values are saved for plotting purposes\n",
    "    a2_r=a2\n",
    "    qi_r=qi\n",
    "    \n",
    "    #Calculate the rate according to the model selected\n",
    "    if model=='Harmonic':\n",
    "        y_model=Harm(x,a1_r,qi)\n",
    "    else:\n",
    "        y_model=Hyperb(x,a1_r,a2_r,qi)\n",
    "    \n",
    "    #Calculate the sum of squared residuals\n",
    "    r2=np.power(y_model-y_real,2)\n",
    "    s1=np.sqrt(np.sum(r2))\n",
    "    \n",
    "    print(\"The first S is: \",s1)\n",
    "    a1n=a1\n",
    "    a2n=a2\n",
    "    qin=qi\n",
    "    s=1e30\n",
    "    c=1\n",
    "    print(\"The first Lambda is:\",lamb)\n",
    "    \n",
    "        \n",
    "    for c in range(iterations):\n",
    "        if model=='Harmonic':\n",
    "            a1=a1n\n",
    "            qi=qin\n",
    "            a1n,a2n,qin=LevMarq(x,y_real,qi,lamb,'Harmonic',a1n)\n",
    "            y_model=Harm(x,a1n,qi)\n",
    "        else:\n",
    "            a1=a1n\n",
    "            a2=a2n\n",
    "            qi=qin\n",
    "            a1n,a2n,qin=LevMarq(x,y_real,qi,lamb,'Hyperbolic',a1n,a2n)\n",
    "            y_model=Hyperb(x,a1n,a2n,qi)\n",
    "        r2=np.power(y_model-y_real,2)\n",
    "        s1=np.sqrt(np.sum(r2))\n",
    "        print('Iteration=%d, Sum=%f, a1=%f, a2=%f, qi=%f, Lambda=%f' % (c,s1,a1n,a2n,qin,lamb))\n",
    "        \n",
    "        if abs(s1-s)<1E-10:\n",
    "            c=c+1\n",
    "        else:\n",
    "            c=1\n",
    "        if s1<0.0001 or c>10:\n",
    "            print('A correct value has been found: S=%f, a1=%f, a2=%f, qi=%f' % (s1,a1,a2,qi))\n",
    "            break\n",
    "\n",
    "        if s1>s or lamb<1E-4:\n",
    "            lamb=lamb*2\n",
    "            print('Increasing lambda',lamb)\n",
    "            a1n=a1\n",
    "            a2n=a2\n",
    "            qin=qi\n",
    "        else:\n",
    "            lamb=lamb/3\n",
    "            print('Decreasing lambda',lamb)\n",
    "            s=s1\n",
    "                    \n",
    "    #Plot\n",
    "    plt.figure(figsize=(15,5))\n",
    "    if model=='Harmonic':\n",
    "        plt.plot(x, Harm(x,a1_r,qi),color='red',label='Initial values', lw=5,zorder=0)\n",
    "        plt.plot(x, Harm(x,a1n,qi),color='green',label='Adjusted values', lw=5,zorder=5)\n",
    "    else:\n",
    "        plt.plot(x, Hyperb(x,a1_r,a2_r,qi),color='red',label='Initial values', lw=5,zorder=0)\n",
    "        plt.plot(x, Hyperb(x,a1n,a2n,qi),color='green',label='Adjusted values', lw=5,zorder=5)    \n",
    "    plt.scatter(x=x, y=y,facecolor='none',edgecolor='black',s=100,zorder=10)\n",
    "    plt.legend()\n",
    "    plt.xlabel('Time (days)')\n",
    "    plt.ylabel('Oil rate [m3/day]')\n",
    "    plt.rc('font', size=8)          # controls default text sizes\n",
    "    plt.rc('axes', titlesize=20)     # fontsize of the axes title\n",
    "    plt.rc('axes', labelsize=20)    # fontsize of the x and y labels\n",
    "    plt.rc('xtick', labelsize=18)    # fontsize of the tick labels\n",
    "    plt.rc('ytick', labelsize=18)    # fontsize of the tick labels\n",
    "    plt.rc('legend', fontsize=14)    # legend fontsize\n",
    "    plt.rc('figure', titlesize=14)  # fontsize of the figure title\n",
    "    plt.grid(True)\n",
    "    plt.show()\n",
    "    return a1,a2,qi\n",
    "\n",
    "#https://engineering.purdue.edu/kak/courses-i-teach/ECE661.08/homework/HW5_LM_handout.pdf\n",
    "#https://stackoverflow.com/questions/1136416/how-does-the-levenberg-marquardt-algorithm-work-in-detail-but-in-an-understandab\n",
    "\n",
    "        "
   ]
  },
  {
   "cell_type": "markdown",
   "metadata": {},
   "source": [
    "#### 1) Harmonic model:\n",
    "For this case let's use a first parameter value of 50 and a lambda of 10"
   ]
  },
  {
   "cell_type": "code",
   "execution_count": 117,
   "metadata": {
    "scrolled": true
   },
   "outputs": [
    {
     "name": "stdout",
     "output_type": "stream",
     "text": [
      "The first S is:  78.7312539720652\n",
      "The first Lambda is: 10\n",
      "Iteration=0, Sum=78.731254, a1=49.999989, a2=1.000000, qi=1.000534, Lambda=10.000000\n",
      "Decreasing lambda 3.3333333333333335\n",
      "Iteration=1, Sum=78.731254, a1=49.999957, a2=1.000000, qi=1.002135, Lambda=3.333333\n",
      "Decreasing lambda 1.1111111111111112\n",
      "Iteration=2, Sum=78.731254, a1=49.999861, a2=1.000000, qi=1.006940, Lambda=1.111111\n",
      "Decreasing lambda 0.3703703703703704\n",
      "Iteration=3, Sum=78.731254, a1=49.999571, a2=1.000000, qi=1.021354, Lambda=0.370370\n",
      "Decreasing lambda 0.1234567901234568\n",
      "Iteration=4, Sum=78.731253, a1=49.998687, a2=1.000000, qi=1.064596, Lambda=0.123457\n",
      "Decreasing lambda 0.0411522633744856\n",
      "Iteration=5, Sum=78.731250, a1=49.995925, a2=1.000000, qi=1.194325, Lambda=0.041152\n",
      "Decreasing lambda 0.013717421124828532\n",
      "Iteration=6, Sum=78.731241, a1=49.986628, a2=1.000000, qi=1.583532, Lambda=0.013717\n",
      "Decreasing lambda 0.004572473708276177\n",
      "Iteration=7, Sum=78.731214, a1=49.949633, a2=1.000000, qi=2.751371, Lambda=0.004572\n",
      "Decreasing lambda 0.0015241579027587256\n",
      "Iteration=8, Sum=78.731134, a1=49.756514, a2=1.000000, qi=6.257469, Lambda=0.001524\n",
      "Decreasing lambda 0.0005080526342529085\n",
      "Iteration=9, Sum=78.730884, a1=48.428643, a2=1.000000, qi=16.816485, Lambda=0.000508\n",
      "Decreasing lambda 0.00016935087808430283\n",
      "Iteration=10, Sum=78.729786, a1=37.128256, a2=1.000000, qi=49.360937, Lambda=0.000169\n",
      "Decreasing lambda 5.645029269476761e-05\n",
      "Iteration=11, Sum=78.732589, a1=-132.093787, a2=1.000000, qi=176.652530, Lambda=0.000056\n",
      "Increasing lambda 0.00011290058538953522\n",
      "Iteration=12, Sum=78.734845, a1=-47.500951, a2=1.000000, qi=113.020414, Lambda=0.000113\n",
      "Increasing lambda 0.00022580117077907044\n",
      "Iteration=13, Sum=78.763574, a1=-5.190896, a2=1.000000, qi=81.194097, Lambda=0.000226\n",
      "Increasing lambda 0.0004516023415581409\n",
      "Iteration=14, Sum=78.720842, a1=15.967543, a2=1.000000, qi=65.278372, Lambda=0.000452\n",
      "Decreasing lambda 0.00015053411385271363\n",
      "Iteration=15, Sum=78.731830, a1=-435.333550, a2=1.000000, qi=175.682532, Lambda=0.000151\n",
      "Increasing lambda 0.00030106822770542725\n",
      "Iteration=16, Sum=78.732374, a1=-210.310583, a2=1.000000, qi=120.633982, Lambda=0.000301\n",
      "Increasing lambda 0.0006021364554108545\n",
      "Iteration=17, Sum=78.733596, a1=-97.329070, a2=1.000000, qi=92.994720, Lambda=0.000602\n",
      "Increasing lambda 0.001204272910821709\n",
      "Iteration=18, Sum=78.736757, a1=-40.720234, a2=1.000000, qi=79.146202, Lambda=0.001204\n",
      "Increasing lambda 0.002408545821643418\n",
      "Iteration=19, Sum=78.749193, a1=-12.386223, a2=1.000000, qi=72.214704, Lambda=0.002409\n",
      "Increasing lambda 0.004817091643286836\n",
      "Iteration=20, Sum=78.607685, a1=1.788189, a2=1.000000, qi=68.747142, Lambda=0.004817\n",
      "Decreasing lambda 0.0016056972144289454\n",
      "Iteration=21, Sum=78.731615, a1=-795.215827, a2=1.000000, qi=89.491811, Lambda=0.001606\n",
      "Increasing lambda 0.003211394428857891\n",
      "Iteration=22, Sum=78.731681, a1=-649.441919, a2=1.000000, qi=85.700715, Lambda=0.003211\n",
      "Increasing lambda 0.006422788857715782\n",
      "Iteration=23, Sum=78.731812, a1=-475.022415, a2=1.000000, qi=81.161179, Lambda=0.006423\n",
      "Increasing lambda 0.012845577715431563\n",
      "Iteration=24, Sum=78.732077, a1=-308.703781, a2=1.000000, qi=76.831354, Lambda=0.012846\n",
      "Increasing lambda 0.025691155430863127\n",
      "Iteration=25, Sum=78.732609, a1=-181.109154, a2=1.000000, qi=73.509311, Lambda=0.025691\n",
      "Increasing lambda 0.05138231086172625\n",
      "Iteration=26, Sum=78.733686, a1=-98.600783, a2=1.000000, qi=71.361039, Lambda=0.051382\n",
      "Increasing lambda 0.1027646217234525\n",
      "Iteration=27, Sum=78.735893, a1=-50.985978, a2=1.000000, qi=70.121268, Lambda=0.102765\n",
      "Increasing lambda 0.205529243446905\n",
      "Iteration=28, Sum=78.740537, a1=-25.294844, a2=1.000000, qi=69.452328, Lambda=0.205529\n",
      "Increasing lambda 0.41105848689381\n",
      "Iteration=29, Sum=78.750856, a1=-11.934290, a2=1.000000, qi=69.104448, Lambda=0.411058\n",
      "Increasing lambda 0.82211697378762\n",
      "Iteration=30, Sum=78.776870, a1=-5.119204, a2=1.000000, qi=68.926997, Lambda=0.822117\n",
      "Increasing lambda 1.64423394757524\n",
      "Iteration=31, Sum=78.870457, a1=-1.677162, a2=1.000000, qi=68.837373, Lambda=1.644234\n",
      "Increasing lambda 3.28846789515048\n",
      "Iteration=32, Sum=74.453513, a1=0.052585, a2=1.000000, qi=68.792334, Lambda=3.288468\n",
      "Decreasing lambda 1.09615596505016\n",
      "Iteration=33, Sum=79.004679, a1=-0.855161, a2=1.000000, qi=68.779581, Lambda=1.096156\n",
      "Increasing lambda 2.19231193010032\n",
      "Iteration=34, Sum=79.004730, a1=-0.855001, a2=1.000000, qi=68.786317, Lambda=2.192312\n",
      "Increasing lambda 4.38462386020064\n",
      "Iteration=35, Sum=79.004830, a1=-0.854690, a2=1.000000, qi=68.789685, Lambda=4.384624\n",
      "Increasing lambda 8.76924772040128\n",
      "Iteration=36, Sum=79.005028, a1=-0.854072, a2=1.000000, qi=68.791369, Lambda=8.769248\n",
      "Increasing lambda 17.53849544080256\n",
      "Iteration=37, Sum=79.005424, a1=-0.852841, a2=1.000000, qi=68.792210, Lambda=17.538495\n",
      "Increasing lambda 35.07699088160512\n",
      "Iteration=38, Sum=79.006216, a1=-0.850391, a2=1.000000, qi=68.792629, Lambda=35.076991\n",
      "Increasing lambda 70.15398176321024\n",
      "Iteration=39, Sum=79.007800, a1=-0.845529, a2=1.000000, qi=68.792836, Lambda=70.153982\n",
      "Increasing lambda 140.30796352642048\n",
      "Iteration=40, Sum=79.010971, a1=-0.835962, a2=1.000000, qi=68.792934, Lambda=140.307964\n",
      "Increasing lambda 280.61592705284096\n",
      "Iteration=41, Sum=79.017327, a1=-0.817426, a2=1.000000, qi=68.792972, Lambda=280.615927\n",
      "Increasing lambda 561.2318541056819\n",
      "Iteration=42, Sum=79.030093, a1=-0.782582, a2=1.000000, qi=68.792970, Lambda=561.231854\n",
      "Increasing lambda 1122.4637082113638\n",
      "Iteration=43, Sum=79.055840, a1=-0.720646, a2=1.000000, qi=68.792934, Lambda=1122.463708\n",
      "Increasing lambda 2244.9274164227277\n",
      "Iteration=44, Sum=79.108213, a1=-0.620774, a2=1.000000, qi=68.792862, Lambda=2244.927416\n",
      "Increasing lambda 4489.854832845455\n",
      "Iteration=45, Sum=79.216617, a1=-0.482538, a2=1.000000, qi=68.792755, Lambda=4489.854833\n",
      "Increasing lambda 8979.70966569091\n",
      "Iteration=46, Sum=79.449313, a1=-0.326777, a2=1.000000, qi=68.792633, Lambda=8979.709666\n",
      "Increasing lambda 17959.41933138182\n",
      "Iteration=47, Sum=79.990308, a1=-0.187192, a2=1.000000, qi=68.792523, Lambda=17959.419331\n",
      "Increasing lambda 35918.83866276364\n",
      "Iteration=48, Sum=81.521210, a1=-0.085543, a2=1.000000, qi=68.792443, Lambda=35918.838663\n",
      "Increasing lambda 71837.67732552729\n",
      "Iteration=49, Sum=90.292619, a1=-0.022166, a2=1.000000, qi=68.792393, Lambda=71837.677326\n",
      "Increasing lambda 143675.35465105457\n",
      "Iteration=50, Sum=63.629132, a1=0.013605, a2=1.000000, qi=68.792365, Lambda=143675.354651\n",
      "Decreasing lambda 47891.78488368486\n",
      "Iteration=51, Sum=83.963201, a1=-0.046536, a2=1.000000, qi=68.792376, Lambda=47891.784884\n",
      "Increasing lambda 95783.56976736971\n",
      "Iteration=52, Sum=84.293630, a1=-0.043890, a2=1.000000, qi=68.792377, Lambda=95783.569767\n",
      "Increasing lambda 191567.13953473943\n",
      "Iteration=53, Sum=84.988156, a1=-0.039239, a2=1.000000, qi=68.792376, Lambda=191567.139535\n",
      "Increasing lambda 383134.27906947886\n",
      "Iteration=54, Sum=86.529271, a1=-0.031881, a2=1.000000, qi=68.792375, Lambda=383134.279069\n",
      "Increasing lambda 766268.5581389577\n",
      "Iteration=55, Sum=90.404636, a1=-0.021973, a2=1.000000, qi=68.792373, Lambda=766268.558139\n",
      "Increasing lambda 1532537.1162779154\n",
      "Iteration=56, Sum=104.331570, a1=-0.011176, a2=1.000000, qi=68.792370, Lambda=1532537.116278\n",
      "Increasing lambda 3065074.232555831\n",
      "Iteration=57, Sum=321.798640, a1=-0.001817, a2=1.000000, qi=68.792368, Lambda=3065074.232556\n",
      "Increasing lambda 6130148.465111662\n",
      "Iteration=58, Sum=43.099648, a1=0.004820, a2=1.000000, qi=68.792367, Lambda=6130148.465112\n",
      "Decreasing lambda 2043382.8217038873\n",
      "Iteration=59, Sum=339.626169, a1=-0.002169, a2=1.000000, qi=68.792368, Lambda=2043382.821704\n",
      "Increasing lambda 4086765.6434077746\n",
      "Iteration=60, Sum=334.977212, a1=-0.001778, a2=1.000000, qi=68.792368, Lambda=4086765.643408\n",
      "Increasing lambda 8173531.286815549\n",
      "Iteration=61, Sum=522.482092, a1=-0.001114, a2=1.000000, qi=68.792367, Lambda=8173531.286816\n",
      "Increasing lambda 16347062.573631098\n",
      "Iteration=62, Sum=6582.871617, a1=-0.000120, a2=1.000000, qi=68.792367, Lambda=16347062.573631\n",
      "Increasing lambda 32694125.147262197\n",
      "Iteration=63, Sum=24.328666, a1=0.001119, a2=1.000000, qi=68.792367, Lambda=32694125.147262\n",
      "Decreasing lambda 10898041.715754066\n",
      "Iteration=64, Sum=13.400034, a1=0.001548, a2=1.000000, qi=68.792368, Lambda=10898041.715754\n",
      "Decreasing lambda 3632680.571918022\n",
      "Iteration=65, Sum=13.031062, a1=0.001651, a2=1.000000, qi=68.792369, Lambda=3632680.571918\n",
      "Decreasing lambda 1210893.523972674\n",
      "Iteration=66, Sum=13.030756, a1=0.001648, a2=1.000000, qi=68.792372, Lambda=1210893.523973\n",
      "Decreasing lambda 403631.17465755803\n",
      "Iteration=67, Sum=13.030753, a1=0.001648, a2=1.000000, qi=68.792381, Lambda=403631.174658\n",
      "Decreasing lambda 134543.7248858527\n",
      "Iteration=68, Sum=13.030751, a1=0.001648, a2=1.000000, qi=68.792407, Lambda=134543.724886\n",
      "Decreasing lambda 44847.90829528423\n",
      "Iteration=69, Sum=13.030743, a1=0.001648, a2=1.000000, qi=68.792487, Lambda=44847.908295\n",
      "Decreasing lambda 14949.302765094742\n",
      "Iteration=70, Sum=13.030721, a1=0.001648, a2=1.000000, qi=68.792726, Lambda=14949.302765\n",
      "Decreasing lambda 4983.1009216982475\n",
      "Iteration=71, Sum=13.030656, a1=0.001648, a2=1.000000, qi=68.793444, Lambda=4983.100922\n",
      "Decreasing lambda 1661.0336405660826\n",
      "Iteration=72, Sum=13.030459, a1=0.001648, a2=1.000000, qi=68.795598, Lambda=1661.033641\n",
      "Decreasing lambda 553.6778801886942\n",
      "Iteration=73, Sum=13.029869, a1=0.001648, a2=1.000000, qi=68.802058, Lambda=553.677880\n",
      "Decreasing lambda 184.5592933962314\n",
      "Iteration=74, Sum=13.028110, a1=0.001649, a2=1.000000, qi=68.821425, Lambda=184.559293\n",
      "Decreasing lambda 61.51976446541047\n",
      "Iteration=75, Sum=13.022926, a1=0.001651, a2=1.000000, qi=68.879394, Lambda=61.519764\n",
      "Decreasing lambda 20.50658815513682\n",
      "Iteration=76, Sum=13.008193, a1=0.001657, a2=1.000000, qi=69.052146, Lambda=20.506588\n",
      "Decreasing lambda 6.835529385045607\n",
      "Iteration=77, Sum=12.970858, a1=0.001675, a2=1.000000, qi=69.560273, Lambda=6.835529\n",
      "Decreasing lambda 2.2785097950152022\n",
      "Iteration=78, Sum=12.909067, a1=0.001726, a2=1.000000, qi=70.999910, Lambda=2.278510\n",
      "Decreasing lambda 0.7595032650050674\n",
      "Iteration=79, Sum=12.969566, a1=0.001856, a2=1.000000, qi=74.695720, Lambda=0.759503\n",
      "Increasing lambda 1.5190065300101347\n",
      "Iteration=80, Sum=12.602464, a1=0.001793, a2=1.000000, qi=72.960891, Lambda=1.519007\n",
      "Decreasing lambda 0.5063355100033783\n",
      "Iteration=81, Sum=12.794248, a1=0.001963, a2=1.000000, qi=77.734240, Lambda=0.506336\n",
      "Increasing lambda 1.0126710200067566\n",
      "Iteration=82, Sum=12.225507, a1=0.001883, a2=1.000000, qi=75.544811, Lambda=1.012671\n",
      "Decreasing lambda 0.33755700666891886\n",
      "Iteration=83, Sum=12.576917, a1=0.002095, a2=1.000000, qi=81.441374, Lambda=0.337557\n",
      "Increasing lambda 0.6751140133378377\n",
      "Iteration=84, Sum=11.779737, a1=0.001998, a2=1.000000, qi=78.812558, Lambda=0.675114\n",
      "Decreasing lambda 0.2250380044459459\n"
     ]
    },
    {
     "name": "stdout",
     "output_type": "stream",
     "text": [
      "Iteration=85, Sum=12.280770, a1=0.002249, a2=1.000000, qi=85.746008, Lambda=0.225038\n",
      "Increasing lambda 0.4500760088918918\n",
      "Iteration=86, Sum=11.273897, a1=0.002138, a2=1.000000, qi=82.756980, Lambda=0.450076\n",
      "Decreasing lambda 0.15002533629729728\n",
      "Iteration=87, Sum=11.870817, a1=0.002422, a2=1.000000, qi=90.494179, Lambda=0.150025\n",
      "Increasing lambda 0.30005067259459456\n",
      "Iteration=88, Sum=10.723814, a1=0.002301, a2=1.000000, qi=87.284501, Lambda=0.300051\n",
      "Decreasing lambda 0.10001689086486486\n",
      "Iteration=89, Sum=11.333831, a1=0.002606, a2=1.000000, qi=95.463160, Lambda=0.100017\n",
      "Increasing lambda 0.20003378172972971\n",
      "Iteration=90, Sum=10.152921, a1=0.002482, a2=1.000000, qi=92.214926, Lambda=0.200034\n",
      "Decreasing lambda 0.06667792724324324\n",
      "Iteration=91, Sum=10.686572, a1=0.002791, a2=1.000000, qi=100.383729, Lambda=0.066678\n",
      "Increasing lambda 0.13335585448648649\n",
      "Iteration=92, Sum=9.589782, a1=0.002672, a2=1.000000, qi=97.297236, Lambda=0.133356\n",
      "Decreasing lambda 0.044451951495495495\n",
      "Iteration=93, Sum=9.971887, a1=0.002966, a2=1.000000, qi=104.965853, Lambda=0.044452\n",
      "Increasing lambda 0.08890390299099099\n",
      "Iteration=94, Sum=9.062951, a1=0.002860, a2=1.000000, qi=102.234086, Lambda=0.088904\n",
      "Decreasing lambda 0.02963463433033033\n",
      "Iteration=95, Sum=9.252572, a1=0.003119, a2=1.000000, qi=108.930555, Lambda=0.029635\n",
      "Increasing lambda 0.05926926866066066\n",
      "Iteration=96, Sum=8.597259, a1=0.003032, a2=1.000000, qi=106.711720, Lambda=0.059269\n",
      "Decreasing lambda 0.019756422886886886\n",
      "Iteration=97, Sum=8.606991, a1=0.003241, a2=1.000000, qi=112.054804, Lambda=0.019756\n",
      "Increasing lambda 0.03951284577377377\n",
      "Iteration=98, Sum=8.214252, a1=0.003177, a2=1.000000, qi=110.440601, Lambda=0.039513\n",
      "Decreasing lambda 0.013170948591257925\n",
      "Iteration=99, Sum=8.115129, a1=0.003326, a2=1.000000, qi=114.229981, Lambda=0.013171\n",
      "Decreasing lambda 0.004390316197085975\n",
      "Iteration=100, Sum=7.759578, a1=0.003399, a2=1.000000, qi=116.071820, Lambda=0.004390\n",
      "Decreasing lambda 0.0014634387323619916\n",
      "Iteration=101, Sum=7.660284, a1=0.003412, a2=1.000000, qi=116.391726, Lambda=0.001463\n",
      "Decreasing lambda 0.00048781291078733055\n",
      "Iteration=102, Sum=7.657238, a1=0.003412, a2=1.000000, qi=116.400744, Lambda=0.000488\n",
      "Decreasing lambda 0.00016260430359577686\n",
      "Iteration=103, Sum=7.657236, a1=0.003412, a2=1.000000, qi=116.400552, Lambda=0.000163\n",
      "Decreasing lambda 5.420143453192562e-05\n",
      "Iteration=104, Sum=7.657236, a1=0.003412, a2=1.000000, qi=116.400561, Lambda=0.000054\n",
      "Increasing lambda 0.00010840286906385123\n",
      "Iteration=105, Sum=7.657236, a1=0.003412, a2=1.000000, qi=116.400561, Lambda=0.000108\n",
      "Decreasing lambda 3.613428968795041e-05\n",
      "Iteration=106, Sum=7.657236, a1=0.003412, a2=1.000000, qi=116.400560, Lambda=0.000036\n",
      "A correct value has been found: S=7.657236, a1=0.003412, a2=1.000000, qi=116.400561\n"
     ]
    },
    {
     "data": {
      "image/png": "[encoded data removed]",
      "text/plain": [
       "<Figure size 1080x360 with 1 Axes>"
      ]
     },
     "metadata": {
      "needs_background": "light"
     },
     "output_type": "display_data"
    },
    {
     "data": {
      "text/plain": [
       "(0.0034122742628259167, 1, 116.400560831955)"
      ]
     },
     "execution_count": 117,
     "metadata": {},
     "output_type": "execute_result"
    }
   ],
   "source": [
    "#   (x, y_real, model, lamb, qi, a1=1, a2=1, iterations=150):\n",
    "Adjust(x,y,'Harmonic',10,qi=1,a1=50)"
   ]
  },
  {
   "cell_type": "markdown",
   "metadata": {},
   "source": [
    "The plot shows the difference between the model using the initial values and the adjusted model. Note also the difference between the initial S (square root of the sum of squared residuals) and the final S.\n",
    "It is important to remember that the performance of this method is highly dependable on:\n",
    "* The initial estimation of a1 and qi\n",
    "* The initial value of Lambda\n",
    "We can use the function curve_fit from SciPy to compare our results:"
   ]
  },
  {
   "cell_type": "code",
   "execution_count": 118,
   "metadata": {},
   "outputs": [
    {
     "name": "stdout",
     "output_type": "stream",
     "text": [
      "The adjusted values are: a1 = 0.003412, qi=116.400747\n"
     ]
    }
   ],
   "source": [
    "popt, pcov = curve_fit(Harm, x, y, method='lm')\n",
    "print('The adjusted values are: a1 = %f, qi=%f' % (popt[0],popt[1]))\n",
    "#print(popt[0],popt[1],popt[2])"
   ]
  },
  {
   "cell_type": "markdown",
   "metadata": {},
   "source": [
    "In this case both parameters are the same"
   ]
  },
  {
   "cell_type": "markdown",
   "metadata": {},
   "source": [
    "#### 2) Hyperbolic model:\n",
    "For this case let's use a first parameter value (a1) of 0.01, a second parameter value (a2) of 0.1, a qi of 15 and and a lambda of 1E6"
   ]
  },
  {
   "cell_type": "code",
   "execution_count": 119,
   "metadata": {
    "scrolled": true
   },
   "outputs": [
    {
     "name": "stdout",
     "output_type": "stream",
     "text": [
      "The first S is:  78.26754986110093\n",
      "The first Lambda is: 1000000.0\n",
      "Iteration=0, Sum=48.841955, a1=0.000258, a2=0.100175, qi=15.000002, Lambda=1000000.000000\n",
      "Decreasing lambda 333333.3333333333\n",
      "Iteration=1, Sum=51.081171, a1=0.000063, a2=0.099805, qi=15.000180, Lambda=333333.333333\n",
      "Increasing lambda 666666.6666666666\n",
      "Iteration=2, Sum=51.076580, a1=0.000063, a2=0.099990, qi=15.000091, Lambda=666666.666667\n",
      "Increasing lambda 1333333.3333333333\n",
      "Iteration=3, Sum=51.072644, a1=0.000064, a2=0.100082, qi=15.000047, Lambda=1333333.333333\n",
      "Increasing lambda 2666666.6666666665\n",
      "Iteration=4, Sum=51.067400, a1=0.000064, a2=0.100129, qi=15.000024, Lambda=2666666.666667\n",
      "Increasing lambda 5333333.333333333\n",
      "Iteration=5, Sum=51.058234, a1=0.000064, a2=0.100152, qi=15.000013, Lambda=5333333.333333\n",
      "Increasing lambda 10666666.666666666\n",
      "Iteration=6, Sum=51.040611, a1=0.000064, a2=0.100163, qi=15.000008, Lambda=10666666.666667\n",
      "Increasing lambda 21333333.333333332\n",
      "Iteration=7, Sum=51.005901, a1=0.000064, a2=0.100169, qi=15.000005, Lambda=21333333.333333\n",
      "Increasing lambda 42666666.666666664\n",
      "Iteration=8, Sum=50.937469, a1=0.000065, a2=0.100172, qi=15.000004, Lambda=42666666.666667\n",
      "Increasing lambda 85333333.33333333\n",
      "Iteration=9, Sum=50.803916, a1=0.000066, a2=0.100174, qi=15.000003, Lambda=85333333.333333\n",
      "Increasing lambda 170666666.66666666\n",
      "Iteration=10, Sum=50.549244, a1=0.000068, a2=0.100174, qi=15.000003, Lambda=170666666.666667\n",
      "Increasing lambda 341333333.3333333\n",
      "Iteration=11, Sum=50.085611, a1=0.000072, a2=0.100175, qi=15.000003, Lambda=341333333.333333\n",
      "Increasing lambda 682666666.6666666\n",
      "Iteration=12, Sum=49.314284, a1=0.000079, a2=0.100175, qi=15.000002, Lambda=682666666.666667\n",
      "Increasing lambda 1365333333.3333333\n",
      "Iteration=13, Sum=48.232674, a1=0.000092, a2=0.100175, qi=15.000002, Lambda=1365333333.333333\n",
      "Decreasing lambda 455111111.1111111\n",
      "Iteration=14, Sum=46.542891, a1=0.000146, a2=0.100175, qi=15.000003, Lambda=455111111.111111\n",
      "Decreasing lambda 151703703.7037037\n",
      "Iteration=15, Sum=46.537815, a1=0.000151, a2=0.100175, qi=15.000003, Lambda=151703703.703704\n",
      "Decreasing lambda 50567901.2345679\n",
      "Iteration=16, Sum=46.537646, a1=0.000150, a2=0.100173, qi=15.000004, Lambda=50567901.234568\n",
      "Decreasing lambda 16855967.078189302\n",
      "Iteration=17, Sum=46.537631, a1=0.000150, a2=0.100169, qi=15.000009, Lambda=16855967.078189\n",
      "Decreasing lambda 5618655.692729767\n",
      "Iteration=18, Sum=46.537609, a1=0.000150, a2=0.100158, qi=15.000021, Lambda=5618655.692730\n",
      "Decreasing lambda 1872885.2309099224\n",
      "Iteration=19, Sum=46.537544, a1=0.000150, a2=0.100124, qi=15.000058, Lambda=1872885.230910\n",
      "Decreasing lambda 624295.0769699741\n",
      "Iteration=20, Sum=46.537348, a1=0.000150, a2=0.100022, qi=15.000170, Lambda=624295.076970\n",
      "Decreasing lambda 208098.35898999136\n",
      "Iteration=21, Sum=46.536760, a1=0.000150, a2=0.099716, qi=15.000506, Lambda=208098.358990\n",
      "Decreasing lambda 69366.11966333045\n",
      "Iteration=22, Sum=46.534998, a1=0.000150, a2=0.098797, qi=15.001514, Lambda=69366.119663\n",
      "Decreasing lambda 23122.039887776817\n",
      "Iteration=23, Sum=46.529716, a1=0.000150, a2=0.096045, qi=15.004536, Lambda=23122.039888\n",
      "Decreasing lambda 7707.346629258939\n",
      "Iteration=24, Sum=46.513919, a1=0.000150, a2=0.087814, qi=15.013598, Lambda=7707.346629\n",
      "Decreasing lambda 2569.115543086313\n",
      "Iteration=25, Sum=46.466968, a1=0.000148, a2=0.063360, qi=15.040732, Lambda=2569.115543\n",
      "Decreasing lambda 856.3718476954377\n",
      "Iteration=26, Sum=46.330210, a1=0.000145, a2=-0.007823, qi=15.121671, Lambda=856.371848\n",
      "Decreasing lambda 285.45728256514593\n",
      "Iteration=27, Sum=45.959564, a1=0.000136, a2=-0.200996, qi=15.360198, Lambda=285.457283\n",
      "Decreasing lambda 95.15242752171531\n",
      "Iteration=28, Sum=45.212876, a1=0.000119, a2=-0.590146, qi=16.037086, Lambda=95.152428\n",
      "Decreasing lambda 31.71747584057177\n",
      "Iteration=29, Sum=44.290205, a1=0.000130, a2=-0.603508, qi=17.839411, Lambda=31.717476\n",
      "Decreasing lambda 10.572491946857257\n",
      "Iteration=30, Sum=42.342647, a1=0.000193, a2=-0.100373, qi=22.144000, Lambda=10.572492\n",
      "Decreasing lambda 3.5241639822857524\n",
      "Iteration=31, Sum=38.310049, a1=0.000325, a2=0.284510, qi=30.157607, Lambda=3.524164\n",
      "Decreasing lambda 1.1747213274285841\n",
      "Iteration=32, Sum=31.939223, a1=0.000538, a2=0.430910, qi=41.708012, Lambda=1.174721\n",
      "Decreasing lambda 0.39157377580952807\n",
      "Iteration=33, Sum=23.948652, a1=0.000802, a2=0.524563, qi=54.752077, Lambda=0.391574\n",
      "Decreasing lambda 0.13052459193650937\n",
      "Iteration=34, Sum=16.471280, a1=0.001095, a2=0.616583, qi=66.617082, Lambda=0.130525\n",
      "Decreasing lambda 0.04350819731216979\n",
      "Iteration=35, Sum=11.174088, a1=0.001367, a2=0.680464, qi=75.488387, Lambda=0.043508\n",
      "Decreasing lambda 0.014502732437389929\n",
      "Iteration=36, Sum=7.922456, a1=0.001553, a2=0.715220, qi=80.657469, Lambda=0.014503\n",
      "Decreasing lambda 0.004834244145796643\n",
      "Iteration=37, Sum=6.474832, a1=0.001632, a2=0.729252, qi=82.678993, Lambda=0.004834\n",
      "Decreasing lambda 0.0016114147152655476\n",
      "Iteration=38, Sum=6.206056, a1=0.001651, a2=0.732969, qi=83.142778, Lambda=0.001611\n",
      "Decreasing lambda 0.0005371382384218492\n",
      "Iteration=39, Sum=6.190998, a1=0.001654, a2=0.733603, qi=83.209862, Lambda=0.000537\n",
      "Decreasing lambda 0.00017904607947394973\n",
      "Iteration=40, Sum=6.190679, a1=0.001655, a2=0.733682, qi=83.217583, Lambda=0.000179\n",
      "Decreasing lambda 5.9682026491316575e-05\n",
      "Iteration=41, Sum=6.190675, a1=0.001655, a2=0.733690, qi=83.218404, Lambda=0.000060\n",
      "Increasing lambda 0.00011936405298263315\n",
      "Iteration=42, Sum=6.190675, a1=0.001655, a2=0.733690, qi=83.218403, Lambda=0.000119\n",
      "Decreasing lambda 3.978801766087772e-05\n",
      "Iteration=43, Sum=6.190675, a1=0.001655, a2=0.733691, qi=83.218489, Lambda=0.000040\n",
      "Increasing lambda 7.957603532175543e-05\n",
      "Iteration=44, Sum=6.190675, a1=0.001655, a2=0.733691, qi=83.218489, Lambda=0.000080\n",
      "Increasing lambda 0.00015915207064351087\n",
      "Iteration=45, Sum=6.190675, a1=0.001655, a2=0.733691, qi=83.218488, Lambda=0.000159\n",
      "Decreasing lambda 5.305069021450362e-05\n",
      "Iteration=46, Sum=6.190675, a1=0.001655, a2=0.733691, qi=83.218498, Lambda=0.000053\n",
      "Increasing lambda 0.00010610138042900725\n",
      "Iteration=47, Sum=6.190675, a1=0.001655, a2=0.733691, qi=83.218498, Lambda=0.000106\n",
      "Decreasing lambda 3.5367126809669084e-05\n",
      "Iteration=48, Sum=6.190675, a1=0.001655, a2=0.733691, qi=83.218498, Lambda=0.000035\n",
      "A correct value has been found: S=6.190675, a1=0.001655, a2=0.733691, qi=83.218498\n"
     ]
    },
    {
     "data": {
      "image/png": "[encoded data removed]",
      "text/plain": [
       "<Figure size 1080x360 with 1 Axes>"
      ]
     },
     "metadata": {
      "needs_background": "light"
     },
     "output_type": "display_data"
    },
    {
     "data": {
      "text/plain": [
       "(0.0016546682816793207, 0.7336909923318288, 83.21849754011629)"
      ]
     },
     "execution_count": 119,
     "metadata": {},
     "output_type": "execute_result"
    }
   ],
   "source": [
    "#   (x, y_real, model, lamb, qi, a1=1, a2=1, iterations=150):\n",
    "Adjust(x,y,'Hyperbolic',1E6,qi=15,a1=0.01,a2=0.1)"
   ]
  },
  {
   "cell_type": "markdown",
   "metadata": {},
   "source": [
    "This is an example where the selection of the initial guess for the parameters is considerably important. This algorithm won't converge (or at least it will take many iterations) depending on how far our initial estimations are from the solution. It is important to have a good idea of the order of magnitude of each of these parameters before running the algorithm.\n",
    "\n",
    "Regarding the value of lambda, note how this time we have started with a very large number of Lambda so the first steps in the algorithms are Gradient Descent steps.\n",
    "\n",
    "We can also compare these results with the curve_fit function"
   ]
  },
  {
   "cell_type": "code",
   "execution_count": 120,
   "metadata": {},
   "outputs": [
    {
     "name": "stdout",
     "output_type": "stream",
     "text": [
      "The adjusted values are: a1 = 0.001655, a2=0.733687, qi=83.218114\n"
     ]
    }
   ],
   "source": [
    "popt, pcov = curve_fit(Hyperb, x, y, method='lm')\n",
    "print('The adjusted values are: a1 = %f, a2=%f, qi=%f' % (popt[0],popt[1],popt[2]))\n",
    "#print(popt[0],popt[1],popt[2])"
   ]
  }
 ],
 "metadata": {
  "kernelspec": {
   "display_name": "Python 3",
   "language": "python",
   "name": "python3"
  },
  "language_info": {
   "codemirror_mode": {
    "name": "ipython",
    "version": 3
   },
   "file_extension": ".py",
   "mimetype": "text/x-python",
   "name": "python",
   "nbconvert_exporter": "python",
   "pygments_lexer": "ipython3",
   "version": "3.7.4"
  }
 },
 "nbformat": 4,
 "nbformat_minor": 2
}
